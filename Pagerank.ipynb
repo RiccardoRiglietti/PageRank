{
  "nbformat": 4,
  "nbformat_minor": 0,
  "metadata": {
    "colab": {
      "provenance": [],
      "collapsed_sections": [
        "AS0mqFJSumCV",
        "MtoKy3RhutAI"
      ]
    },
    "kernelspec": {
      "name": "python3",
      "display_name": "Python 3"
    },
    "language_info": {
      "name": "python"
    }
  },
  "cells": [
    {
      "cell_type": "markdown",
      "source": [
        "# PageRank algorithm"
      ],
      "metadata": {
        "id": "ND2cwYzduzZS"
      }
    },
    {
      "cell_type": "markdown",
      "source": [
        "# Analogy between PageRank and iterative eigenvector computation"
      ],
      "metadata": {
        "id": "gyJB3iXovBZ9"
      }
    },
    {
      "cell_type": "markdown",
      "source": [
        "# Finding eigenvectors with repeated multiplication"
      ],
      "metadata": {
        "id": "hsh0_7bAuvv0"
      }
    },
    {
      "cell_type": "code",
      "source": [
        "matrix = np.random.rand(3,3)\n",
        "v = np.random.rand(3)\n",
        "\n",
        "values, vectors = np.linalg.eig(matrix)\n",
        "eig = vectors[:, 0]\n",
        "\n",
        "print(\"Note: an error of 2 is like an error of 0: the vectors just point in opposite directions (v_1 = -v_2)\")\n",
        "\n",
        "for _ in range(15):\n",
        "    print(f\"Current estimate {v}, error from eigenvector {np.linalg.norm(v - eig)}\")\n",
        "    r = matrix @ v\n",
        "    v = r / np.linalg.norm(r)\n",
        "\n",
        "values, vectors = np.linalg.eig(matrix)\n",
        "print(vectors[:, 0])"
      ],
      "metadata": {
        "id": "rNhcZ7In07Oc",
        "colab": {
          "base_uri": "https://localhost:8080/"
        },
        "outputId": "b9d858ab-9ff0-4d5e-d374-77dc6ff1019f"
      },
      "execution_count": null,
      "outputs": [
        {
          "output_type": "stream",
          "name": "stdout",
          "text": [
            "Note: an error of 2 is like an error of 0: the vectors just point in opposite directions (v_1 = -v_2)\n",
            "Current estimate [0.61523358 0.38094225 0.78053719], error from eigenvector 2.050740606869501\n",
            "Current estimate [0.50709526 0.54028169 0.67152818], error from eigenvector 1.999041560009243\n",
            "Current estimate [0.53241112 0.54640295 0.64651544], error from eigenvector 1.999820480519057\n",
            "Current estimate [0.53947274 0.55333864 0.63465386], error from eigenvector 1.9999677607793125\n",
            "Current estimate [0.54266685 0.55600061 0.629584  ], error from eigenvector 1.9999942420034085\n",
            "Current estimate [0.54399919 0.55713514 0.62742754], error from eigenvector 1.9999989778751126\n",
            "Current estimate [0.54456049 0.55761139 0.62651689], error from eigenvector 1.999999818933086\n",
            "Current estimate [0.54479654 0.55781173 0.62613322], error from eigenvector 1.9999999679545128\n",
            "Current estimate [0.54489582 0.55789598 0.62597174], error from eigenvector 1.9999999943307243\n",
            "Current estimate [0.54493758 0.55793141 0.62590381], error from eigenvector 1.9999999989971926\n",
            "Current estimate [0.54495514 0.55794631 0.62587524], error from eigenvector 1.9999999998226308\n",
            "Current estimate [0.54496252 0.55795258 0.62586322], error from eigenvector 1.9999999999686293\n",
            "Current estimate [0.54496563 0.55795521 0.62585817], error from eigenvector 1.9999999999944513\n",
            "Current estimate [0.54496694 0.55795632 0.62585604], error from eigenvector 1.9999999999990186\n",
            "Current estimate [0.54496749 0.55795679 0.62585515], error from eigenvector 1.9999999999998264\n",
            "[-0.54496788 -0.55795712 -0.6258545 ]\n"
          ]
        }
      ]
    },
    {
      "cell_type": "markdown",
      "source": [
        "# Applying this to adjency matrices for pagerank"
      ],
      "metadata": {
        "id": "QbfGB28D0F3B"
      }
    },
    {
      "cell_type": "markdown",
      "source": [
        "# Computational problem of huge matrix-vector multiplication"
      ],
      "metadata": {
        "id": "ymojh4m_vrW7"
      }
    },
    {
      "cell_type": "markdown",
      "source": [
        "# The adjency matrix of the Web is very large but also very sparse"
      ],
      "metadata": {
        "id": "exTcBjKUvlNc"
      }
    },
    {
      "cell_type": "markdown",
      "source": [
        "# How to multiply by a very large and very sparse matrix efficiently"
      ],
      "metadata": {
        "id": "nHkHGSvivISB"
      }
    },
    {
      "cell_type": "markdown",
      "source": [
        "# Implementation of a sparse matrix data structure"
      ],
      "metadata": {
        "id": "AS0mqFJSumCV"
      }
    },
    {
      "cell_type": "code",
      "execution_count": null,
      "metadata": {
        "id": "XZGr3X9ztKOu"
      },
      "outputs": [],
      "source": [
        "from re import X\n",
        "from dataclasses import dataclass\n",
        "from pprint import pprint\n",
        "from collections import OrderedDict\n",
        "\n",
        "@dataclass\n",
        "class SparseItem:\n",
        "    value: float\n",
        "    column: float\n",
        "\n",
        "class SparseMatrix:\n",
        "\n",
        "    # Maybe it is better to have a dict {position: value}\n",
        "    # or a dict of dicts {row_number: {column_number : value}}\n",
        "    def __init__(self, items, dense_shape=None):\n",
        "        # dictionary where \n",
        "        self.items = items\n",
        "        self.dense_shape = dense_shape\n",
        "\n",
        "    @staticmethod\n",
        "    def from_dense(dense):\n",
        "        new = SparseMatrix(OrderedDict(), dense.shape)\n",
        "        for y, row in enumerate(dense):\n",
        "            for x, item in enumerate(row):\n",
        "                if item != 0:\n",
        "                    new.items[(y, x)] = item\n",
        "        return new\n",
        "\n",
        "    def multiply_by_vector(self, vector, verbose=False):\n",
        "        res = np.zeros(vector.shape)\n",
        "        for (y, x), matrix_item in self.items.items():\n",
        "            vector_current_item = vector[x]\n",
        "            res[y] += matrix_item * vector_current_item\n",
        "            if verbose:\n",
        "                pprint(locals())\n",
        "        return res\n",
        "\n",
        "    def dense_representation(self):\n",
        "        dense = np.zeros(self.dense_shape)\n",
        "        for (y, x), item in self.items.items():\n",
        "                dense[y][x] = item\n",
        "        return dense\n",
        "\n",
        "    @staticmethod\n",
        "    def random_sparse_matrix_dense_repr(size, sparsity=0.5):\n",
        "        matrix = np.random.rand(size, size)\n",
        "        for _ in range(int(sparsity * size * size)):\n",
        "            x, y = np.random.randint(0, size, size=2)\n",
        "            matrix[(y,x)] = 0.0\n",
        "        return matrix\n",
        "\n",
        "    def __repr__(self):\n",
        "        return f\"SparseMatrix({self.items})\"\n",
        "\n",
        "\n",
        "    def __eq__(self, other):\n",
        "        return self.items == other.items"
      ]
    },
    {
      "cell_type": "markdown",
      "source": [
        "# Examples and tests"
      ],
      "metadata": {
        "id": "MtoKy3RhutAI"
      }
    },
    {
      "cell_type": "code",
      "source": [
        "m = SparseMatrix.from_dense(np.array([\n",
        "    [1, 2],\n",
        "    [0, 3]\n",
        "]))\n",
        "\n",
        "#print(m)\n",
        "res = m.multiply_by_vector(np.array([1,2]), verbose=True)\n",
        "#print(res)"
      ],
      "metadata": {
        "colab": {
          "base_uri": "https://localhost:8080/"
        },
        "id": "vOAcB7wZqMtT",
        "outputId": "659777cf-b78b-4b99-c752-5c886ac0fa56"
      },
      "execution_count": null,
      "outputs": [
        {
          "output_type": "stream",
          "name": "stdout",
          "text": [
            "{'matrix_item': 1,\n",
            " 'res': array([1., 0.]),\n",
            " 'self': SparseMatrix(OrderedDict([((0, 0), 1), ((0, 1), 2), ((1, 1), 3)])),\n",
            " 'vector': array([1, 2]),\n",
            " 'vector_current_item': 1,\n",
            " 'verbose': True,\n",
            " 'x': 0,\n",
            " 'y': 0}\n",
            "{'matrix_item': 2,\n",
            " 'res': array([5., 0.]),\n",
            " 'self': SparseMatrix(OrderedDict([((0, 0), 1), ((0, 1), 2), ((1, 1), 3)])),\n",
            " 'vector': array([1, 2]),\n",
            " 'vector_current_item': 2,\n",
            " 'verbose': True,\n",
            " 'x': 1,\n",
            " 'y': 0}\n",
            "{'matrix_item': 3,\n",
            " 'res': array([5., 6.]),\n",
            " 'self': SparseMatrix(OrderedDict([((0, 0), 1), ((0, 1), 2), ((1, 1), 3)])),\n",
            " 'vector': array([1, 2]),\n",
            " 'vector_current_item': 2,\n",
            " 'verbose': True,\n",
            " 'x': 1,\n",
            " 'y': 1}\n"
          ]
        }
      ]
    },
    {
      "cell_type": "code",
      "source": [
        "SparseMatrix.random_sparse_matrix_dense_repr(5)"
      ],
      "metadata": {
        "colab": {
          "base_uri": "https://localhost:8080/"
        },
        "id": "UWsHNwJNoN86",
        "outputId": "6e836d5b-41c2-4a3f-fa7c-9334ea627d7f"
      },
      "execution_count": null,
      "outputs": [
        {
          "output_type": "execute_result",
          "data": {
            "text/plain": [
              "array([[0.91507125, 0.40164316, 0.        , 0.        , 0.        ],\n",
              "       [0.68011146, 0.95791376, 0.60480822, 0.79392249, 0.        ],\n",
              "       [0.84871928, 0.        , 0.13870472, 0.44611222, 0.75136625],\n",
              "       [0.        , 0.        , 0.79288921, 0.        , 0.73546179],\n",
              "       [0.55597658, 0.        , 0.26633858, 0.        , 0.        ]])"
            ]
          },
          "metadata": {},
          "execution_count": 104
        }
      ]
    },
    {
      "cell_type": "code",
      "source": [
        "import numpy as np\n",
        "\n",
        "import unittest\n",
        "\n",
        "class TestSparseMatrix(unittest.TestCase):\n",
        "\n",
        "    def test_simple_conversion(self):\n",
        "        matrix = np.array( [\n",
        "            [1, 2, 3],\n",
        "            [0, 0, 0],\n",
        "            [0, 0, 1]\n",
        "        ])\n",
        "        sparse = SparseMatrix.from_dense(matrix)\n",
        "        res = SparseMatrix(OrderedDict([\n",
        "            ((0, 0), 1),\n",
        "            ((0, 1), 2),\n",
        "            ((0, 2), 3),\n",
        "            ((2, 2), 1),\n",
        "        ]))\n",
        "        #print(sparse, res)\n",
        "        self.assertEqual(sparse, res)\n",
        "\n",
        "    def test_simple_mult(self):\n",
        "        matrix = np.array( [\n",
        "            [1, 2, 3],\n",
        "            [4, 0, 0],\n",
        "            [0, 0, 1]\n",
        "        ])\n",
        "\n",
        "        vector = np.array( [\n",
        "            1,\n",
        "            2,\n",
        "            3\n",
        "        ])\n",
        "\n",
        "        numpy_result = matrix @ vector\n",
        "\n",
        "        sparse_matrix = SparseMatrix.from_dense(matrix)\n",
        "        res = np.array([1*1+2*2+3*3,\n",
        "                        1*4,\n",
        "                        3*1\n",
        "                        ])\n",
        "        sparse_res = sparse_matrix.multiply_by_vector(vector)\n",
        "\n",
        "        #print(locals())\n",
        "        np.testing.assert_array_almost_equal(res, numpy_result) \n",
        "        np.testing.assert_array_almost_equal(res, sparse_res) \n",
        "\n",
        "    def test_back_and_forth_is_equal_to_start(self):\n",
        "        for _ in range(20):\n",
        "            matrix = SparseMatrix.random_sparse_matrix_dense_repr(20)\n",
        "            sparse = SparseMatrix.from_dense(matrix)\n",
        "            dense_back = sparse.dense_representation()\n",
        "            np.testing.assert_array_almost_equal(matrix, dense_back)\n",
        "\n",
        "    \n",
        "    def test_multiplication_is_correct_oracle(self):\n",
        "        for _ in range(20):\n",
        "\n",
        "            matrix = SparseMatrix.random_sparse_matrix_dense_repr(5)\n",
        "            vector = np.random.rand(5)\n",
        "\n",
        "            numpy_result = matrix @ vector\n",
        "\n",
        "            sparse_matrix = SparseMatrix.from_dense(matrix)\n",
        "            res = sparse_matrix.multiply_by_vector(vector)\n",
        "\n",
        "            #pprint(locals())\n",
        "            np.testing.assert_array_almost_equal(res, numpy_result)\n",
        "    \n",
        "    \n",
        "\n",
        "unittest.main(verbosity=3, argv=['first-arg-is-ignored'], exit=False)"
      ],
      "metadata": {
        "colab": {
          "base_uri": "https://localhost:8080/"
        },
        "id": "gxDNGmfCwvvt",
        "outputId": "2a7e13ec-db6a-4747-c11b-8992ca91c3d4"
      },
      "execution_count": null,
      "outputs": [
        {
          "output_type": "stream",
          "name": "stderr",
          "text": [
            "test_back_and_forth_is_equal_to_start (__main__.TestSparseMatrix) ... ok\n",
            "test_multiplication_is_correct_oracle (__main__.TestSparseMatrix) ... ok\n",
            "test_simple_conversion (__main__.TestSparseMatrix) ... ok\n",
            "test_simple_mult (__main__.TestSparseMatrix) ... ok\n",
            "\n",
            "----------------------------------------------------------------------\n",
            "Ran 4 tests in 0.149s\n",
            "\n",
            "OK\n"
          ]
        },
        {
          "output_type": "execute_result",
          "data": {
            "text/plain": [
              "<unittest.main.TestProgram at 0x7fc965a594d0>"
            ]
          },
          "metadata": {},
          "execution_count": 110
        }
      ]
    }
  ]
}
